{
 "cells": [
  {
   "cell_type": "code",
   "execution_count": 8,
   "metadata": {},
   "outputs": [],
   "source": [
    "import networkx as nx \n",
    "import matplotlib.pyplot as plt \n",
    "import numpy as np \n",
    "import math\n",
    "import json"
   ]
  },
  {
   "cell_type": "code",
   "execution_count": 9,
   "metadata": {},
   "outputs": [
    {
     "data": {
      "image/png": "[encoded data removed]",
      "text/plain": [
       "<Figure size 640x480 with 1 Axes>"
      ]
     },
     "metadata": {},
     "output_type": "display_data"
    }
   ],
   "source": [
    "def calculate_density1(k, n):\n",
    "    return math.ceil(k / (3 - 6/n))\n",
    "\n",
    "def calculate_density2(k, n):\n",
    "    return math.floor((k + 3 - 7/n) / (3 - 6/n))\n",
    "\n",
    "def calculate_density(k):\n",
    "    return math.ceil((k+1) / 3)\n",
    "\n",
    "n = list(range(5, 20))\n",
    "k = 8\n",
    "\n",
    "y1 = [calculate_density1(k, i) for i in n]\n",
    "y2 = [calculate_density2(k, i) for i in n]\n",
    "y3 = [calculate_density(k) for i in n]\n",
    "\n",
    "plt.plot(n, y1, label='Density 1', color='red')\n",
    "plt.plot(n, y2, label='Density 2', color='green')\n",
    "plt.plot(n, y3, label='Density', color='blue')\n",
    "\n",
    "plt.show()"
   ]
  },
  {
   "cell_type": "code",
   "execution_count": 10,
   "metadata": {},
   "outputs": [],
   "source": [
    "def _random_subset(seq, m, rng):\n",
    "    \"\"\"Return m unique elements from seq.\n",
    "\n",
    "    This differs from random.sample which can return repeated\n",
    "    elements if seq holds repeated elements.\n",
    "\n",
    "    Note: rng is a random.Random or numpy.random.RandomState instance.\n",
    "    \"\"\"\n",
    "    targets = set()\n",
    "    while len(targets) < m:\n",
    "        x = rng.choice(seq)\n",
    "        targets.add(x)\n",
    "    return targets"
   ]
  },
  {
   "cell_type": "code",
   "execution_count": 11,
   "metadata": {},
   "outputs": [],
   "source": [
    "def barabasi_albert_graph(n, m, embedding_layers_number, seed=None, initial_graph=None):\n",
    "    \"\"\"Returns a random graph using Barabási-Albert preferential attachment\n",
    "\n",
    "    A graph of $n$ nodes is grown by attaching new nodes each with $m$\n",
    "    edges that are preferentially attached to existing nodes with high degree.\n",
    "\n",
    "    Parameters\n",
    "    ----------\n",
    "    n : int\n",
    "        Number of nodes\n",
    "    m : int\n",
    "        Number of edges to attach from a new node to existing nodes\n",
    "    seed : integer, random_state, or None (default)\n",
    "        Indicator of random number generation state.\n",
    "        See :ref:`Randomness<randomness>`.\n",
    "    initial_graph : Graph or None (default)\n",
    "        Initial network for Barabási-Albert algorithm.\n",
    "        It should be a connected graph for most use cases.\n",
    "        A copy of `initial_graph` is used.\n",
    "        If None, starts from a star graph on (m+1) nodes.\n",
    "\n",
    "    Returns\n",
    "    -------\n",
    "    G : Graph\n",
    "\n",
    "    Raises\n",
    "    ------\n",
    "    NetworkXError\n",
    "        If `m` does not satisfy ``1 <= m < n``, or\n",
    "        the initial graph number of nodes m0 does not satisfy ``m <= m0 <= n``.\n",
    "\n",
    "    References\n",
    "    ----------\n",
    "    .. [1] A. L. Barabási and R. Albert \"Emergence of scaling in\n",
    "       random networks\", Science 286, pp 509-512, 1999.\n",
    "    \"\"\"\n",
    "\n",
    "    if m < 1 or m >= n:\n",
    "        raise nx.NetworkXError(\n",
    "            f\"Barabási-Albert network must have m >= 1 and m < n, m = {m}, n = {n}\"\n",
    "        )\n",
    "\n",
    "    if initial_graph is None:\n",
    "        # Default initial graph : star graph on (m + 1) nodes\n",
    "        G = nx.star_graph(m)\n",
    "    else:\n",
    "        if len(initial_graph) < m or len(initial_graph) > n:\n",
    "            raise nx.NetworkXError(\n",
    "                f\"Barabási-Albert initial graph needs between m={m} and n={n} nodes\"\n",
    "            )\n",
    "        G = initial_graph.copy()\n",
    "\n",
    "    for index, edge in enumerate(G.edges()):\n",
    "        G.edges[edge]['color'] = 'blue' if index % embedding_layers_number == 0 else 'red'\n",
    "\n",
    "    if seed is None:\n",
    "        seed = np.random.RandomState()\n",
    "\n",
    "    # List of existing nodes, with nodes repeated once for each adjacent edge\n",
    "    repeated_nodes = [n for n, d in G.degree() for _ in range(d)]\n",
    "    # Start adding the other n - m0 nodes.\n",
    "    source = len(G)\n",
    "    while source < n:\n",
    "        # Now choose m unique nodes from the existing nodes\n",
    "        # Pick uniformly from repeated_nodes (preferential attachment)\n",
    "        targets = _random_subset(repeated_nodes, m, seed)\n",
    "        # Add edges to m nodes from the source.\n",
    "        G.add_edges_from(zip([source] * m, targets))\n",
    "        # Add one node to the list for each new edge just created.\n",
    "        repeated_nodes.extend(targets)\n",
    "        # And the new node \"source\" has m edges to add to the list.\n",
    "        repeated_nodes.extend([source] * m)\n",
    "\n",
    "        # Color the nodes and edges\n",
    "        G.nodes[source]['color'] = 'green'\n",
    "        for target in targets:\n",
    "            G.edges[source, target]['color'] = 'blue' if source % embedding_layers_number == 0 else 'red'\n",
    "\n",
    "        source += 1\n",
    "    return G"
   ]
  },
  {
   "cell_type": "code",
   "execution_count": 12,
   "metadata": {},
   "outputs": [],
   "source": [
    "def draw_graph(G: nx.Graph):\n",
    "    \"\"\"Draw a graph with node and edge colors.\n",
    "\n",
    "    Parameters\n",
    "    ----------\n",
    "    G : nx.Graph\n",
    "        The graph to draw.\n",
    "    \"\"\"\n",
    "\n",
    "    node_colors = [G.nodes[node]['color'] if 'color' in G.nodes[node] else 'black' for node in G.nodes()]\n",
    "    edge_colors = [G.edges[edge]['color'] if 'color' in G.edges[edge] else 'black' for edge in G.edges()]\n",
    "    pos = nx.spring_layout(G)\n",
    "    nx.draw(G, pos, node_color=node_colors, node_size=50, edge_color=edge_colors, with_labels=False)\n",
    "    plt.show()"
   ]
  },
  {
   "cell_type": "code",
   "execution_count": 13,
   "metadata": {},
   "outputs": [],
   "source": [
    "def load_graph_from_file(file_path: str):\n",
    "    \"\"\"Draw a graph from a file.\n",
    "\n",
    "    Parameters\n",
    "    ----------\n",
    "    file_path : str\n",
    "        The path to the file.\n",
    "    \"\"\"\n",
    "\n",
    "    with open(file_path, 'r') as f:\n",
    "        data = json.load(f)\n",
    "\n",
    "    G = nx.Graph()\n",
    "\n",
    "    for node in data['nodes']:\n",
    "        if 'id' in node and 'color' in node:\n",
    "            G.add_node(node['id'], color=node['color'])\n",
    "        elif 'id' in node:\n",
    "            G.add_node(node['id'])\n",
    "\n",
    "    for edge in data['edges']:\n",
    "        if 'source' in edge and 'target' in edge and 'color' in edge:\n",
    "            G.add_edge(edge['source'], edge['target'], color=edge['color'])\n",
    "        elif 'source' in edge and 'target' in edge:\n",
    "            G.add_edge(edge['source'], edge['target'])\n",
    "\n",
    "    return G"
   ]
  },
  {
   "cell_type": "code",
   "execution_count": 15,
   "metadata": {},
   "outputs": [
    {
     "ename": "FileNotFoundError",
     "evalue": "[Errno 2] No such file or directory: 'cmake-build-debug/simple-graph.txt'",
     "output_type": "error",
     "traceback": [
      "\u001b[0;31m---------------------------------------------------------------------------\u001b[0m",
      "\u001b[0;31mFileNotFoundError\u001b[0m                         Traceback (most recent call last)",
      "\u001b[1;32m/home/karoljanic/Documents/preferential-colouring-of-random-graphs/preferential-colouring-of-random-graphs.ipynb Cell 7\u001b[0m line \u001b[0;36m2\n\u001b[1;32m      <a href='vscode-notebook-cell:/home/karoljanic/Documents/preferential-colouring-of-random-graphs/preferential-colouring-of-random-graphs.ipynb#W6sZmlsZQ%3D%3D?line=0'>1</a>\u001b[0m \u001b[39m# ba = barabasi_albert_graph(50, 2, 4)\u001b[39;00m\n\u001b[0;32m----> <a href='vscode-notebook-cell:/home/karoljanic/Documents/preferential-colouring-of-random-graphs/preferential-colouring-of-random-graphs.ipynb#W6sZmlsZQ%3D%3D?line=1'>2</a>\u001b[0m ba \u001b[39m=\u001b[39m load_graph_from_file(\u001b[39m'\u001b[39;49m\u001b[39mcmake-build-debug/simple-graph.txt\u001b[39;49m\u001b[39m'\u001b[39;49m)\n\u001b[1;32m      <a href='vscode-notebook-cell:/home/karoljanic/Documents/preferential-colouring-of-random-graphs/preferential-colouring-of-random-graphs.ipynb#W6sZmlsZQ%3D%3D?line=2'>3</a>\u001b[0m \u001b[39m# ba = load_graph_from_file('cmake-build-debug/graph1-nc.txt')\u001b[39;00m\n\u001b[1;32m      <a href='vscode-notebook-cell:/home/karoljanic/Documents/preferential-colouring-of-random-graphs/preferential-colouring-of-random-graphs.ipynb#W6sZmlsZQ%3D%3D?line=3'>4</a>\u001b[0m \u001b[39m# ba = load_graph_from_file('cmake-build-debug/graph2-ec.txt')\u001b[39;00m\n\u001b[1;32m      <a href='vscode-notebook-cell:/home/karoljanic/Documents/preferential-colouring-of-random-graphs/preferential-colouring-of-random-graphs.ipynb#W6sZmlsZQ%3D%3D?line=4'>5</a>\u001b[0m \u001b[39m# ba = load_graph_from_file('cmake-build-debug/graph3-nc-ec.txt')\u001b[39;00m\n\u001b[1;32m      <a href='vscode-notebook-cell:/home/karoljanic/Documents/preferential-colouring-of-random-graphs/preferential-colouring-of-random-graphs.ipynb#W6sZmlsZQ%3D%3D?line=5'>6</a>\u001b[0m draw_graph(ba)\n",
      "\u001b[1;32m/home/karoljanic/Documents/preferential-colouring-of-random-graphs/preferential-colouring-of-random-graphs.ipynb Cell 7\u001b[0m line \u001b[0;36m1\n\u001b[1;32m      <a href='vscode-notebook-cell:/home/karoljanic/Documents/preferential-colouring-of-random-graphs/preferential-colouring-of-random-graphs.ipynb#W6sZmlsZQ%3D%3D?line=0'>1</a>\u001b[0m \u001b[39mdef\u001b[39;00m \u001b[39mload_graph_from_file\u001b[39m(file_path: \u001b[39mstr\u001b[39m):\n\u001b[1;32m      <a href='vscode-notebook-cell:/home/karoljanic/Documents/preferential-colouring-of-random-graphs/preferential-colouring-of-random-graphs.ipynb#W6sZmlsZQ%3D%3D?line=1'>2</a>\u001b[0m \u001b[39m    \u001b[39m\u001b[39m\"\"\"Draw a graph from a file.\u001b[39;00m\n\u001b[1;32m      <a href='vscode-notebook-cell:/home/karoljanic/Documents/preferential-colouring-of-random-graphs/preferential-colouring-of-random-graphs.ipynb#W6sZmlsZQ%3D%3D?line=2'>3</a>\u001b[0m \n\u001b[1;32m      <a href='vscode-notebook-cell:/home/karoljanic/Documents/preferential-colouring-of-random-graphs/preferential-colouring-of-random-graphs.ipynb#W6sZmlsZQ%3D%3D?line=3'>4</a>\u001b[0m \u001b[39m    Parameters\u001b[39;00m\n\u001b[0;32m   (...)\u001b[0m\n\u001b[1;32m      <a href='vscode-notebook-cell:/home/karoljanic/Documents/preferential-colouring-of-random-graphs/preferential-colouring-of-random-graphs.ipynb#W6sZmlsZQ%3D%3D?line=6'>7</a>\u001b[0m \u001b[39m        The path to the file.\u001b[39;00m\n\u001b[1;32m      <a href='vscode-notebook-cell:/home/karoljanic/Documents/preferential-colouring-of-random-graphs/preferential-colouring-of-random-graphs.ipynb#W6sZmlsZQ%3D%3D?line=7'>8</a>\u001b[0m \u001b[39m    \"\"\"\u001b[39;00m\n\u001b[0;32m---> <a href='vscode-notebook-cell:/home/karoljanic/Documents/preferential-colouring-of-random-graphs/preferential-colouring-of-random-graphs.ipynb#W6sZmlsZQ%3D%3D?line=9'>10</a>\u001b[0m     \u001b[39mwith\u001b[39;00m \u001b[39mopen\u001b[39;49m(file_path, \u001b[39m'\u001b[39;49m\u001b[39mr\u001b[39;49m\u001b[39m'\u001b[39;49m) \u001b[39mas\u001b[39;00m f:\n\u001b[1;32m     <a href='vscode-notebook-cell:/home/karoljanic/Documents/preferential-colouring-of-random-graphs/preferential-colouring-of-random-graphs.ipynb#W6sZmlsZQ%3D%3D?line=10'>11</a>\u001b[0m         data \u001b[39m=\u001b[39m json\u001b[39m.\u001b[39mload(f)\n\u001b[1;32m     <a href='vscode-notebook-cell:/home/karoljanic/Documents/preferential-colouring-of-random-graphs/preferential-colouring-of-random-graphs.ipynb#W6sZmlsZQ%3D%3D?line=12'>13</a>\u001b[0m     G \u001b[39m=\u001b[39m nx\u001b[39m.\u001b[39mGraph()\n",
      "File \u001b[0;32m/usr/lib/python3.12/site-packages/IPython/core/interactiveshell.py:324\u001b[0m, in \u001b[0;36m_modified_open\u001b[0;34m(file, *args, **kwargs)\u001b[0m\n\u001b[1;32m    317\u001b[0m \u001b[39mif\u001b[39;00m file \u001b[39min\u001b[39;00m {\u001b[39m0\u001b[39m, \u001b[39m1\u001b[39m, \u001b[39m2\u001b[39m}:\n\u001b[1;32m    318\u001b[0m     \u001b[39mraise\u001b[39;00m \u001b[39mValueError\u001b[39;00m(\n\u001b[1;32m    319\u001b[0m         \u001b[39mf\u001b[39m\u001b[39m\"\u001b[39m\u001b[39mIPython won\u001b[39m\u001b[39m'\u001b[39m\u001b[39mt let you open fd=\u001b[39m\u001b[39m{\u001b[39;00mfile\u001b[39m}\u001b[39;00m\u001b[39m by default \u001b[39m\u001b[39m\"\u001b[39m\n\u001b[1;32m    320\u001b[0m         \u001b[39m\"\u001b[39m\u001b[39mas it is likely to crash IPython. If you know what you are doing, \u001b[39m\u001b[39m\"\u001b[39m\n\u001b[1;32m    321\u001b[0m         \u001b[39m\"\u001b[39m\u001b[39myou can use builtins\u001b[39m\u001b[39m'\u001b[39m\u001b[39m open.\u001b[39m\u001b[39m\"\u001b[39m\n\u001b[1;32m    322\u001b[0m     )\n\u001b[0;32m--> 324\u001b[0m \u001b[39mreturn\u001b[39;00m io_open(file, \u001b[39m*\u001b[39;49margs, \u001b[39m*\u001b[39;49m\u001b[39m*\u001b[39;49mkwargs)\n",
      "\u001b[0;31mFileNotFoundError\u001b[0m: [Errno 2] No such file or directory: 'cmake-build-debug/simple-graph.txt'"
     ]
    }
   ],
   "source": [
    "# ba = barabasi_albert_graph(50, 2, 4)\n",
    "# ba = load_graph_from_file('cmake-build-debug/simple-graph.txt')\n",
    "# ba = load_graph_from_file('cmake-build-debug/graph1-nc.txt')\n",
    "# ba = load_graph_from_file('cmake-build-debug/graph2-ec.txt')\n",
    "ba = load_graph_from_file('cmake-build-debug/graph3-nc-ec.txt')\n",
    "draw_graph(ba)\n",
    "\n",
    "degs = [d for n, d in ba.degree()]\n",
    "plt.figure()\n",
    "plt.hist(degs, bins=range(10))\n",
    "print(nx.check_planarity(ba))"
   ]
  }
 ],
 "metadata": {
  "kernelspec": {
   "display_name": "Python 3",
   "language": "python",
   "name": "python3"
  },
  "language_info": {
   "codemirror_mode": {
    "name": "ipython",
    "version": 3
   },
   "file_extension": ".py",
   "mimetype": "text/x-python",
   "name": "python",
   "nbconvert_exporter": "python",
   "pygments_lexer": "ipython3",
   "version": "3.12.3"
  }
 },
 "nbformat": 4,
 "nbformat_minor": 2
}
